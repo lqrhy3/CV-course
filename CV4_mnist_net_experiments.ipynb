{
  "nbformat": 4,
  "nbformat_minor": 0,
  "metadata": {
    "colab": {
      "name": "CV4_mnist_net_experiments.ipynb",
      "version": "0.3.2",
      "provenance": [],
      "collapsed_sections": []
    },
    "kernelspec": {
      "name": "python3",
      "display_name": "Python 3"
    },
    "accelerator": "GPU"
  },
  "cells": [
    {
      "cell_type": "code",
      "metadata": {
        "id": "pO6pNqDJuTd9",
        "colab_type": "code",
        "colab": {}
      },
      "source": [
        "#я не торч просто дунул\n",
        "import torch"
      ],
      "execution_count": 0,
      "outputs": []
    },
    {
      "cell_type": "code",
      "metadata": {
        "id": "CLDusBFyubrc",
        "colab_type": "code",
        "colab": {}
      },
      "source": [
        "#воспроизводимость\n",
        "import random\n",
        "import numpy as np\n",
        "\n",
        "random.seed(0)\n",
        "np.random.seed(0)\n",
        "torch.manual_seed(0)\n",
        "torch.cuda.manual_seed(0)\n",
        "torch.backends.cudnn.deterministic = True"
      ],
      "execution_count": 0,
      "outputs": []
    },
    {
      "cell_type": "code",
      "metadata": {
        "id": "fO6X4K1zueWE",
        "colab_type": "code",
        "colab": {}
      },
      "source": [
        "#данные\n",
        "import torchvision.datasets\n",
        "MNIST_train = torchvision.datasets.MNIST('./', download=True, train=True)\n",
        "MNIST_test = torchvision.datasets.MNIST('./', download=True, train=False)"
      ],
      "execution_count": 0,
      "outputs": []
    },
    {
      "cell_type": "code",
      "metadata": {
        "id": "etc6Makfugju",
        "colab_type": "code",
        "colab": {}
      },
      "source": [
        "X_train = MNIST_train.data\n",
        "y_train = MNIST_train.targets\n",
        "X_test = MNIST_test.data\n",
        "y_test = MNIST_test.targets"
      ],
      "execution_count": 0,
      "outputs": []
    },
    {
      "cell_type": "code",
      "metadata": {
        "id": "sKNzd_RFujET",
        "colab_type": "code",
        "colab": {}
      },
      "source": [
        "X_train = X_train.float()\n",
        "X_test = X_test.float()"
      ],
      "execution_count": 0,
      "outputs": []
    },
    {
      "cell_type": "code",
      "metadata": {
        "id": "icMID5meunTz",
        "colab_type": "code",
        "outputId": "046cff12-b62f-4ba3-bd0f-fc2005f113a1",
        "colab": {
          "base_uri": "https://localhost:8080/",
          "height": 33
        }
      },
      "source": [
        "X_train = X_train.reshape([-1, 28*28])\n",
        "X_test = X_test.reshape([-1, 28*28])\n",
        "X_train.shape"
      ],
      "execution_count": 13,
      "outputs": [
        {
          "output_type": "execute_result",
          "data": {
            "text/plain": [
              "torch.Size([60000, 784])"
            ]
          },
          "metadata": {
            "tags": []
          },
          "execution_count": 13
        }
      ]
    },
    {
      "cell_type": "code",
      "metadata": {
        "id": "Kwg0yOpUuqn3",
        "colab_type": "code",
        "colab": {}
      },
      "source": [
        "import numpy as np\n",
        "from sklearn.metrics import accuracy_score\n",
        "\n",
        "class MNISTNet_cpu(torch.nn.Module):\n",
        "  def __init__(self, n_hidden_neurons, n_epochs=5000, lr=0.001, batch_size=100,\n",
        "               save_history=False):\n",
        "    super(MNISTNet_cpu, self).__init__()\n",
        "    self.fc1 = torch.nn.Linear(28 * 28, n_hidden_neurons)\n",
        "    self.act1 = torch.nn.Sigmoid()\n",
        "    self.fc2 = torch.nn.Linear(n_hidden_neurons, 10)\n",
        "    self.sm = torch.nn.Softmax(dim=1)\n",
        "    \n",
        "    self.n_epochs = n_epochs\n",
        "    self.lr = lr\n",
        "    self.batch_size = batch_size\n",
        "    self.save_history = save_history\n",
        "  \n",
        "  def forward(self, x):\n",
        "    x = self.fc1(x)\n",
        "    x = self.act1(x)\n",
        "    x = self.fc2(x)\n",
        "    return x\n",
        "  \n",
        "  def train(self, x, y):\n",
        "    self.loss_history_ = []\n",
        "    self.accuracy_history_ = []\n",
        "    self.loss_history_test_ = []\n",
        "      \n",
        "    optimizer = torch.optim.Adam(self.parameters(), self.lr)\n",
        "    loss = torch.nn.CrossEntropyLoss() #принимает значения НЕ из Softmax (не вычисляется логарифм)\n",
        "    \n",
        "    for i in range(self.n_epochs):\n",
        "      shuffled_indexes = np.random.permutation(x.shape[0])\n",
        "      \n",
        "      for start_index in range(0, x.shape[0], self.batch_size):\n",
        "        x_batch = x[shuffled_indexes[start_index:start_index + self.batch_size]]\n",
        "        y_batch = y[shuffled_indexes[start_index:start_index + self.batch_size]]\n",
        "        optimizer.zero_grad()\n",
        "        y_output = self.forward(x_batch)\n",
        "        loss_value = loss(y_output, y_batch)\n",
        "        loss_value.backward()\n",
        "        optimizer.step()\n",
        "    \n",
        "      if self.save_history:\n",
        "        self.loss_history_.append(loss(self.forward(x), y).detach().numpy())\n",
        "        self.loss_history_test_.append(loss(self.forward(X_test), y_test).detach().numpy())\n",
        "\n",
        "        #accuracy = accuracy_score(self.predict(x).detach().numpy(), y.detach().numpy())\n",
        "        #self.accuracy_history_.append(accuracy)\n",
        "\n",
        "        if i % 10 == 0:\n",
        "          #print(accuracy)\n",
        "          pass\n",
        "    return self \n",
        "\n",
        "  def predict(self, x):\n",
        "    return self.forward(x).argmax(dim=1)\n",
        "  \n",
        "  def predict_proba(self, x):\n",
        "    return self.sm(self.forward(x))"
      ],
      "execution_count": 0,
      "outputs": []
    },
    {
      "cell_type": "code",
      "metadata": {
        "id": "7ya30SDiv8-i",
        "colab_type": "code",
        "outputId": "f9fd7aae-ba0b-4fdf-9d1d-790b38ac1675",
        "colab": {
          "base_uri": "https://localhost:8080/",
          "height": 33
        }
      },
      "source": [
        "#переведем на CUDA\n",
        "torch.cuda.is_available()"
      ],
      "execution_count": 17,
      "outputs": [
        {
          "output_type": "execute_result",
          "data": {
            "text/plain": [
              "True"
            ]
          },
          "metadata": {
            "tags": []
          },
          "execution_count": 17
        }
      ]
    },
    {
      "cell_type": "code",
      "metadata": {
        "id": "KktvdZt2Fap0",
        "colab_type": "code",
        "outputId": "c64f0d0d-b6df-489e-836a-9cf4d495903a",
        "colab": {
          "base_uri": "https://localhost:8080/",
          "height": 301
        }
      },
      "source": [
        "!nvidia-smi"
      ],
      "execution_count": 18,
      "outputs": [
        {
          "output_type": "stream",
          "text": [
            "Thu Jul 25 09:41:26 2019       \n",
            "+-----------------------------------------------------------------------------+\n",
            "| NVIDIA-SMI 418.67       Driver Version: 410.79       CUDA Version: 10.0     |\n",
            "|-------------------------------+----------------------+----------------------+\n",
            "| GPU  Name        Persistence-M| Bus-Id        Disp.A | Volatile Uncorr. ECC |\n",
            "| Fan  Temp  Perf  Pwr:Usage/Cap|         Memory-Usage | GPU-Util  Compute M. |\n",
            "|===============================+======================+======================|\n",
            "|   0  Tesla T4            Off  | 00000000:00:04.0 Off |                    0 |\n",
            "| N/A   53C    P8    16W /  70W |     10MiB / 15079MiB |      0%      Default |\n",
            "+-------------------------------+----------------------+----------------------+\n",
            "                                                                               \n",
            "+-----------------------------------------------------------------------------+\n",
            "| Processes:                                                       GPU Memory |\n",
            "|  GPU       PID   Type   Process name                             Usage      |\n",
            "|=============================================================================|\n",
            "|  No running processes found                                                 |\n",
            "+-----------------------------------------------------------------------------+\n"
          ],
          "name": "stdout"
        }
      ]
    },
    {
      "cell_type": "code",
      "metadata": {
        "id": "yi5IcNU_wcls",
        "colab_type": "code",
        "colab": {}
      },
      "source": [
        "device = torch.device('cuda:0' if torch.cuda.is_available() else 'cpu')"
      ],
      "execution_count": 0,
      "outputs": []
    },
    {
      "cell_type": "code",
      "metadata": {
        "id": "0_MjptUNxeUb",
        "colab_type": "code",
        "colab": {}
      },
      "source": [
        "X_test_cuda = X_test.to(device)\n",
        "y_test_cuda = y_test.to(device)"
      ],
      "execution_count": 0,
      "outputs": []
    },
    {
      "cell_type": "code",
      "metadata": {
        "id": "LcMTO9RAxp2E",
        "colab_type": "code",
        "colab": {}
      },
      "source": [
        "class MNISTNet_gpu(torch.nn.Module):\n",
        "  def __init__(self, n_hidden_neurons, n_epochs=5000, lr=0.001, batch_size=100,\n",
        "               save_history=False):\n",
        "    super(MNISTNet_gpu, self).__init__()\n",
        "    self.fc1 = torch.nn.Linear(28 * 28, n_hidden_neurons)\n",
        "    self.act1 = torch.nn.Sigmoid()\n",
        "    self.fc2 = torch.nn.Linear(n_hidden_neurons, 10)\n",
        "    self.sm = torch.nn.Softmax(dim=1)\n",
        "    \n",
        "    self.n_epochs = n_epochs\n",
        "    self.lr = lr\n",
        "    self.batch_size = batch_size\n",
        "    self.save_history = save_history\n",
        "  \n",
        "  def forward(self, x):\n",
        "    x = self.fc1(x)\n",
        "    x = self.act1(x)\n",
        "    x = self.fc2(x)\n",
        "    return x\n",
        "  \n",
        "  def train(self, x, y):\n",
        "    self.loss_history_ = []\n",
        "    self.accuracy_history_ = []\n",
        "    self.loss_history_test_ = []\n",
        "    \n",
        "    optimizer = torch.optim.Adam(self.parameters(), self.lr)\n",
        "    loss = torch.nn.CrossEntropyLoss() #принимает значения НЕ из Softmax (не вычисляется логарифм)\n",
        "    \n",
        "    for i in range(self.n_epochs):\n",
        "      shuffled_indexes = np.random.permutation(x.shape[0])\n",
        "      \n",
        "      for start_index in range(0, x.shape[0], self.batch_size):\n",
        "        x_batch = x[shuffled_indexes[start_index:start_index + self.batch_size]].to(device)\n",
        "        y_batch = y[shuffled_indexes[start_index:start_index + self.batch_size]].to(device)\n",
        "        \n",
        "        optimizer.zero_grad()\n",
        "        y_output = self.forward(x_batch)\n",
        "        loss_value = loss(y_output, y_batch)\n",
        "        loss_value.backward()\n",
        "        optimizer.step()\n",
        "      \n",
        "      if self.save_history:\n",
        "        self.loss_history_.append(loss(self.forward(x), y).data.cpu().numpy())\n",
        "        self.loss_history_test_.append(loss(self.forward(X_test_cuda), y_test_cuda).data.cpu().numpy())\n",
        "\n",
        "        accuracy = accuracy_score(self.predict(X_test_cuda).data.cpu().numpy(), y_test_cuda.data.cpu().numpy())\n",
        "        self.accuracy_history_.append(accuracy)\n",
        "        \n",
        "        if i % 10 == 0:\n",
        "          #print(accuracy)\n",
        "          pass\n",
        "        \n",
        "    return self \n",
        "\n",
        "  def predict(self, x):\n",
        "    return self.forward(x).argmax(dim=1)\n",
        "  \n",
        "  def predict_proba(self, x):\n",
        "    return self.sm(self.forward(x))"
      ],
      "execution_count": 0,
      "outputs": []
    },
    {
      "cell_type": "code",
      "metadata": {
        "id": "35iJjHLoHFi1",
        "colab_type": "code",
        "colab": {}
      },
      "source": [
        "mnist_net_gpu = MNISTNet_gpu(200, n_epochs=35, save_history=True)\n",
        "mnist_net_gpu = mnist_net_gpu.to(device)"
      ],
      "execution_count": 0,
      "outputs": []
    },
    {
      "cell_type": "code",
      "metadata": {
        "id": "puoZ83FxHQY2",
        "colab_type": "code",
        "outputId": "9aa3b246-9c16-49fa-fb2f-c34b653076a8",
        "colab": {
          "base_uri": "https://localhost:8080/",
          "height": 184
        }
      },
      "source": [
        "mnist_net_gpu.train(X_train.to(device), y_train.to(device))"
      ],
      "execution_count": 29,
      "outputs": [
        {
          "output_type": "stream",
          "text": [
            "0.9187\n",
            "0.9418\n",
            "0.941\n",
            "0.9464\n"
          ],
          "name": "stdout"
        },
        {
          "output_type": "execute_result",
          "data": {
            "text/plain": [
              "MNISTNet_gpu(\n",
              "  (fc1): Linear(in_features=784, out_features=200, bias=True)\n",
              "  (act1): Sigmoid()\n",
              "  (fc2): Linear(in_features=200, out_features=10, bias=True)\n",
              "  (sm): Softmax()\n",
              ")"
            ]
          },
          "metadata": {
            "tags": []
          },
          "execution_count": 29
        }
      ]
    },
    {
      "cell_type": "code",
      "metadata": {
        "id": "i12ngyZwHrs-",
        "colab_type": "code",
        "outputId": "ee651e52-3643-423f-b807-96127c083583",
        "colab": {
          "base_uri": "https://localhost:8080/",
          "height": 281
        }
      },
      "source": [
        "import matplotlib.pyplot as plt\n",
        "plt.plot(range(len(mnist_net_gpu.loss_history_)), mnist_net_gpu.loss_history_, \n",
        "         label='train data loss value')\n",
        "plt.plot(range(len(mnist_net_gpu.loss_history_test_)), mnist_net_gpu.loss_history_test_,\n",
        "         label='test data loss value')\n",
        "plt.title('Loss value')\n",
        "plt.legend();\n"
      ],
      "execution_count": 30,
      "outputs": [
        {
          "output_type": "display_data",
          "data": {
            "image/png": "[encoded data removed]",
            "text/plain": [
              "<Figure size 432x288 with 1 Axes>"
            ]
          },
          "metadata": {
            "tags": []
          }
        }
      ]
    },
    {
      "cell_type": "code",
      "metadata": {
        "id": "H-5-QfKcfMFL",
        "colab_type": "code",
        "colab": {
          "base_uri": "https://localhost:8080/",
          "height": 297
        },
        "outputId": "e8b04f93-0935-49b5-dff2-389d5923a056"
      },
      "source": [
        "plt.plot(range(len(mnist_net_gpu.accuracy_history_)), mnist_net_gpu.accuracy_history_)\n",
        "plt.title('Accuracy')"
      ],
      "execution_count": 31,
      "outputs": [
        {
          "output_type": "execute_result",
          "data": {
            "text/plain": [
              "Text(0.5, 1.0, 'Accuracy')"
            ]
          },
          "metadata": {
            "tags": []
          },
          "execution_count": 31
        },
        {
          "output_type": "display_data",
          "data": {
            "image/png": "[encoded data removed]",
            "text/plain": [
              "<Figure size 432x288 with 1 Axes>"
            ]
          },
          "metadata": {
            "tags": []
          }
        }
      ]
    },
    {
      "cell_type": "code",
      "metadata": {
        "id": "M_CqvnkaSzfe",
        "colab_type": "code",
        "outputId": "d2297c0e-aa2d-4304-af68-3cae17ce1ce9",
        "colab": {
          "base_uri": "https://localhost:8080/",
          "height": 33
        }
      },
      "source": [
        "#ускорение работы (cpu vs gpu)\n",
        "import time\n",
        "mnist_net_cpu = MNISTNet_cpu(90, n_epochs=91, save_history=False)\n",
        "mnist_net_gpu = MNISTNet_gpu(90, n_epochs=91, save_history=False)\n",
        "mnist_net_gpu = mnist_net_gpu.to(device)\n",
        "\n",
        "cpu_start_time = time.time()\n",
        "mnist_net_cpu.train(X_train, y_train)\n",
        "cpu_time = time.time() - cpu_start_time\n",
        "\n",
        "gpu_start_time = time.time()\n",
        "mnist_net_gpu.train(X_train.to(device), y_train.to(device))\n",
        "gpu_time = time.time() - gpu_start_time\n",
        "\n",
        "print(cpu_time, ' vs ', gpu_time)"
      ],
      "execution_count": 33,
      "outputs": [
        {
          "output_type": "stream",
          "text": [
            "178.63904786109924  vs  65.40775275230408\n"
          ],
          "name": "stdout"
        }
      ]
    },
    {
      "cell_type": "code",
      "metadata": {
        "id": "PUP9-uTw7Kys",
        "colab_type": "code",
        "colab": {
          "base_uri": "https://localhost:8080/",
          "height": 50
        },
        "outputId": "7fbc0e8b-3ee9-4d9c-9242-436cc930a6b0"
      },
      "source": [
        "#Замедляет ли torch.backends.cudnn.deterministic = True обучение на практике? Если да, то насколько?\n",
        "torch.backends.cudnn.deterministic = True\n",
        "mnist_net = MNISTNet_gpu(90, n_epochs=50, save_history=False)\n",
        "mnist_net = mnist_net.to(device)\n",
        "start_time = time.time()\n",
        "mnist_net.train(X_train, y_train)\n",
        "det_time = start_time - time.time()\n",
        "\n",
        "torch.backends.cudnn.deterministic = False\n",
        "mnist_net = MNISTNet_gpu(90, n_epochs=50, save_history=False)\n",
        "mnist_net = mnist_net.to(device)\n",
        "start_time = time.time()\n",
        "mnist_net.train(X_train, y_train)\n",
        "nondet_time = start_time - time.time()\n",
        "\n",
        "print(det_time, nondet_time, sep='\\n')"
      ],
      "execution_count": 35,
      "outputs": [
        {
          "output_type": "stream",
          "text": [
            "-41.43988251686096\n",
            "-41.67657399177551\n"
          ],
          "name": "stdout"
        }
      ]
    },
    {
      "cell_type": "code",
      "metadata": {
        "id": "dFTh1CP2i6RK",
        "colab_type": "code",
        "colab": {}
      },
      "source": [
        ""
      ],
      "execution_count": 0,
      "outputs": []
    }
  ]
}