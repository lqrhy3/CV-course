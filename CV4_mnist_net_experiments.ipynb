{
  "nbformat": 4,
  "nbformat_minor": 0,
  "metadata": {
    "colab": {
      "name": "CV4_mnist_net_experiments.ipynb",
      "version": "0.3.2",
      "provenance": [],
      "collapsed_sections": []
    },
    "kernelspec": {
      "name": "python3",
      "display_name": "Python 3"
    },
    "accelerator": "GPU"
  },
  "cells": [
    {
      "cell_type": "code",
      "metadata": {
        "id": "pO6pNqDJuTd9",
        "colab_type": "code",
        "colab": {}
      },
      "source": [
        "#я не торч просто дунул\n",
        "import torch"
      ],
      "execution_count": 0,
      "outputs": []
    },
    {
      "cell_type": "code",
      "metadata": {
        "id": "CLDusBFyubrc",
        "colab_type": "code",
        "colab": {}
      },
      "source": [
        "#воспроизводимость\n",
        "import random\n",
        "import numpy as np\n",
        "\n",
        "random.seed(0)\n",
        "np.random.seed(0)\n",
        "torch.manual_seed(0)\n",
        "torch.cuda.manual_seed(0)\n",
        "torch.backends.cudnn.deterministic = True"
      ],
      "execution_count": 0,
      "outputs": []
    },
    {
      "cell_type": "code",
      "metadata": {
        "id": "fO6X4K1zueWE",
        "colab_type": "code",
        "outputId": "69707913-65f9-4702-81d2-7acad9fa7466",
        "colab": {
          "base_uri": "https://localhost:8080/",
          "height": 251
        }
      },
      "source": [
        "#данные\n",
        "import torchvision.datasets\n",
        "MNIST_train = torchvision.datasets.MNIST('./', download=True, train=True)\n",
        "MNIST_test = torchvision.datasets.MNIST('./', download=True, train=False)"
      ],
      "execution_count": 0,
      "outputs": [
        {
          "output_type": "stream",
          "text": [
            "\r0it [00:00, ?it/s]"
          ],
          "name": "stderr"
        },
        {
          "output_type": "stream",
          "text": [
            "Downloading http://yann.lecun.com/exdb/mnist/train-images-idx3-ubyte.gz to ./MNIST/raw/train-images-idx3-ubyte.gz\n"
          ],
          "name": "stdout"
        },
        {
          "output_type": "stream",
          "text": [
            "9920512it [00:02, 3948651.64it/s]                             \n"
          ],
          "name": "stderr"
        },
        {
          "output_type": "stream",
          "text": [
            "Extracting ./MNIST/raw/train-images-idx3-ubyte.gz\n"
          ],
          "name": "stdout"
        },
        {
          "output_type": "stream",
          "text": [
            "\r0it [00:00, ?it/s]"
          ],
          "name": "stderr"
        },
        {
          "output_type": "stream",
          "text": [
            "Downloading http://yann.lecun.com/exdb/mnist/train-labels-idx1-ubyte.gz to ./MNIST/raw/train-labels-idx1-ubyte.gz\n"
          ],
          "name": "stdout"
        },
        {
          "output_type": "stream",
          "text": [
            "32768it [00:00, 58415.36it/s]                           \n",
            "0it [00:00, ?it/s]"
          ],
          "name": "stderr"
        },
        {
          "output_type": "stream",
          "text": [
            "Extracting ./MNIST/raw/train-labels-idx1-ubyte.gz\n",
            "Downloading http://yann.lecun.com/exdb/mnist/t10k-images-idx3-ubyte.gz to ./MNIST/raw/t10k-images-idx3-ubyte.gz\n"
          ],
          "name": "stdout"
        },
        {
          "output_type": "stream",
          "text": [
            "1654784it [00:01, 863712.77it/s]                             \n",
            "0it [00:00, ?it/s]"
          ],
          "name": "stderr"
        },
        {
          "output_type": "stream",
          "text": [
            "Extracting ./MNIST/raw/t10k-images-idx3-ubyte.gz\n",
            "Downloading http://yann.lecun.com/exdb/mnist/t10k-labels-idx1-ubyte.gz to ./MNIST/raw/t10k-labels-idx1-ubyte.gz\n"
          ],
          "name": "stdout"
        },
        {
          "output_type": "stream",
          "text": [
            "8192it [00:00, 21512.52it/s]            "
          ],
          "name": "stderr"
        },
        {
          "output_type": "stream",
          "text": [
            "Extracting ./MNIST/raw/t10k-labels-idx1-ubyte.gz\n",
            "Processing...\n",
            "Done!\n"
          ],
          "name": "stdout"
        },
        {
          "output_type": "stream",
          "text": [
            "\n"
          ],
          "name": "stderr"
        }
      ]
    },
    {
      "cell_type": "code",
      "metadata": {
        "id": "etc6Makfugju",
        "colab_type": "code",
        "colab": {}
      },
      "source": [
        "X_train = MNIST_train.data\n",
        "y_train = MNIST_train.targets\n",
        "X_test = MNIST_test.data\n",
        "y_test = MNIST_test.targets"
      ],
      "execution_count": 0,
      "outputs": []
    },
    {
      "cell_type": "code",
      "metadata": {
        "id": "sKNzd_RFujET",
        "colab_type": "code",
        "colab": {}
      },
      "source": [
        "X_train = X_train.float()\n",
        "X_test = X_test.float()"
      ],
      "execution_count": 0,
      "outputs": []
    },
    {
      "cell_type": "code",
      "metadata": {
        "id": "icMID5meunTz",
        "colab_type": "code",
        "outputId": "41d5ec01-2328-4cbe-f61a-eb7954e308ad",
        "colab": {
          "base_uri": "https://localhost:8080/",
          "height": 33
        }
      },
      "source": [
        "X_train = X_train.reshape([-1, 28*28])\n",
        "X_test = X_test.reshape([-1, 28*28])\n",
        "X_train.shape"
      ],
      "execution_count": 0,
      "outputs": [
        {
          "output_type": "execute_result",
          "data": {
            "text/plain": [
              "torch.Size([60000, 784])"
            ]
          },
          "metadata": {
            "tags": []
          },
          "execution_count": 6
        }
      ]
    },
    {
      "cell_type": "code",
      "metadata": {
        "id": "Kwg0yOpUuqn3",
        "colab_type": "code",
        "colab": {}
      },
      "source": [
        "import time\n",
        "import numpy as np\n",
        "from sklearn.metrics import accuracy_score\n",
        "\n",
        "class MNISTNet_cpu(torch.nn.Module):\n",
        "  def __init__(self, n_hidden_neurons, n_epochs=5000, lr=0.001, batch_size=100,\n",
        "               save_history=False):\n",
        "    super(MNISTNet_cpu, self).__init__()\n",
        "    self.fc1 = torch.nn.Linear(28 * 28, n_hidden_neurons)\n",
        "    self.act1 = torch.nn.Sigmoid()\n",
        "    self.fc2 = torch.nn.Linear(n_hidden_neurons, 10)\n",
        "    self.sm = torch.nn.Softmax(dim=1)\n",
        "    \n",
        "    self.n_epochs = n_epochs\n",
        "    self.lr = lr\n",
        "    self.batch_size = batch_size\n",
        "    self.save_history = save_history\n",
        "  \n",
        "  def forward(self, x):\n",
        "    x = self.fc1(x)\n",
        "    x = self.act1(x)\n",
        "    x = self.fc2(x)\n",
        "    return x\n",
        "  \n",
        "  def train(self, x, y):\n",
        "    self.loss_history_ = []\n",
        "    self.accuracy_history_ = []\n",
        "    self.loss_history_test_ = []\n",
        "    self.time_history_ = []\n",
        "      \n",
        "    optimizer = torch.optim.Adam(self.parameters(), self.lr)\n",
        "    loss = torch.nn.CrossEntropyLoss() #принимает значения НЕ из Softmax (не вычисляется логарифм)\n",
        "    \n",
        "    start_time = time.time()\n",
        "    for i in range(self.n_epochs):\n",
        "      shuffled_indexes = np.random.permutation(x.shape[0])\n",
        "      \n",
        "      for start_index in range(0, x.shape[0], self.batch_size):\n",
        "        x_batch = x[shuffled_indexes[start_index:start_index + self.batch_size]]\n",
        "        y_batch = y[shuffled_indexes[start_index:start_index + self.batch_size]]\n",
        "        optimizer.zero_grad()\n",
        "        y_output = self.forward(x_batch)\n",
        "        loss_value = loss(y_output, y_batch)\n",
        "        loss_value.backward()\n",
        "        optimizer.step()\n",
        "    \n",
        "      if self.save_history:\n",
        "        self.loss_history_.append(loss(self.forward(x), y).detach().numpy())\n",
        "        self.loss_history_test_.append(loss(self.forward(X_test), y_test).detach().numpy())\n",
        "\n",
        "        #accuracy = accuracy_score(self.predict(x).detach().numpy(), y.detach().numpy())\n",
        "        #self.accuracy_history_.append(accuracy)\n",
        "\n",
        "        if i % 10 == 0:\n",
        "          #print(accuracy)\n",
        "          self.time_history_.append(time.time() - start_time)\n",
        "\n",
        "        \n",
        "    return self \n",
        "\n",
        "  def predict(self, x):\n",
        "    return self.forward(x).argmax(dim=1)\n",
        "  \n",
        "  def predict_proba(self, x):\n",
        "    return self.sm(self.forward(x))"
      ],
      "execution_count": 0,
      "outputs": []
    },
    {
      "cell_type": "code",
      "metadata": {
        "id": "7ya30SDiv8-i",
        "colab_type": "code",
        "outputId": "e5713db4-e5c1-435f-d0fe-e2bff545512c",
        "colab": {
          "base_uri": "https://localhost:8080/",
          "height": 33
        }
      },
      "source": [
        "#переведем на CUDA\n",
        "torch.cuda.is_available()"
      ],
      "execution_count": 0,
      "outputs": [
        {
          "output_type": "execute_result",
          "data": {
            "text/plain": [
              "True"
            ]
          },
          "metadata": {
            "tags": []
          },
          "execution_count": 8
        }
      ]
    },
    {
      "cell_type": "code",
      "metadata": {
        "id": "KktvdZt2Fap0",
        "colab_type": "code",
        "outputId": "9ea2dcd3-a82c-48e5-85e1-1a95b2632092",
        "colab": {
          "base_uri": "https://localhost:8080/",
          "height": 301
        }
      },
      "source": [
        "!nvidia-smi"
      ],
      "execution_count": 0,
      "outputs": [
        {
          "output_type": "stream",
          "text": [
            "Sun Jul 21 18:13:50 2019       \n",
            "+-----------------------------------------------------------------------------+\n",
            "| NVIDIA-SMI 418.67       Driver Version: 410.79       CUDA Version: 10.0     |\n",
            "|-------------------------------+----------------------+----------------------+\n",
            "| GPU  Name        Persistence-M| Bus-Id        Disp.A | Volatile Uncorr. ECC |\n",
            "| Fan  Temp  Perf  Pwr:Usage/Cap|         Memory-Usage | GPU-Util  Compute M. |\n",
            "|===============================+======================+======================|\n",
            "|   0  Tesla K80           Off  | 00000000:00:04.0 Off |                    0 |\n",
            "| N/A   28C    P8    30W / 149W |     11MiB / 11441MiB |      0%      Default |\n",
            "+-------------------------------+----------------------+----------------------+\n",
            "                                                                               \n",
            "+-----------------------------------------------------------------------------+\n",
            "| Processes:                                                       GPU Memory |\n",
            "|  GPU       PID   Type   Process name                             Usage      |\n",
            "|=============================================================================|\n",
            "|  No running processes found                                                 |\n",
            "+-----------------------------------------------------------------------------+\n"
          ],
          "name": "stdout"
        }
      ]
    },
    {
      "cell_type": "code",
      "metadata": {
        "id": "yi5IcNU_wcls",
        "colab_type": "code",
        "colab": {}
      },
      "source": [
        "device = torch.device('cuda:0' if torch.cuda.is_available() else 'cpu')"
      ],
      "execution_count": 0,
      "outputs": []
    },
    {
      "cell_type": "code",
      "metadata": {
        "id": "0_MjptUNxeUb",
        "colab_type": "code",
        "colab": {}
      },
      "source": [
        "X_test_cuda = X_test.to(device)\n",
        "y_test_cuda = y_test.to(device)"
      ],
      "execution_count": 0,
      "outputs": []
    },
    {
      "cell_type": "code",
      "metadata": {
        "id": "LcMTO9RAxp2E",
        "colab_type": "code",
        "colab": {}
      },
      "source": [
        "class MNISTNet_gpu(torch.nn.Module):\n",
        "  def __init__(self, n_hidden_neurons, n_epochs=5000, lr=0.001, batch_size=100,\n",
        "               save_history=False):\n",
        "    super(MNISTNet_gpu, self).__init__()\n",
        "    self.fc1 = torch.nn.Linear(28 * 28, n_hidden_neurons)\n",
        "    self.act1 = torch.nn.Sigmoid()\n",
        "    self.fc2 = torch.nn.Linear(n_hidden_neurons, 10)\n",
        "    self.sm = torch.nn.Softmax(dim=1)\n",
        "    \n",
        "    self.n_epochs = n_epochs\n",
        "    self.lr = lr\n",
        "    self.batch_size = batch_size\n",
        "    self.save_history = save_history\n",
        "  \n",
        "  def forward(self, x):\n",
        "    x = self.fc1(x)\n",
        "    x = self.act1(x)\n",
        "    x = self.fc2(x)\n",
        "    return x\n",
        "  \n",
        "  def train(self, x, y):\n",
        "    self.loss_history_ = []\n",
        "    self.accuracy_history_ = []\n",
        "    self.time_history_ = []\n",
        "    self.loss_history_test_ = []\n",
        "    \n",
        "    optimizer = torch.optim.Adam(self.parameters(), self.lr)\n",
        "    loss = torch.nn.CrossEntropyLoss() #принимает значения НЕ из Softmax (не вычисляется логарифм)\n",
        "    \n",
        "    start_time = time.time()\n",
        "    for i in range(self.n_epochs):\n",
        "      shuffled_indexes = np.random.permutation(x.shape[0])\n",
        "      \n",
        "      for start_index in range(0, x.shape[0], self.batch_size):\n",
        "        x_batch = x[shuffled_indexes[start_index:start_index + self.batch_size]].to(device)\n",
        "        y_batch = y[shuffled_indexes[start_index:start_index + self.batch_size]].to(device)\n",
        "        \n",
        "        optimizer.zero_grad()\n",
        "        y_output = self.forward(x_batch)\n",
        "        loss_value = loss(y_output, y_batch)\n",
        "        loss_value.backward()\n",
        "        optimizer.step()\n",
        "      \n",
        "      if self.save_history:\n",
        "        self.loss_history_.append(loss(self.forward(x), y).cpu().detach().numpy())\n",
        "        self.loss_history_test_.append(loss(self.forward(X_test_cuda), y_test_cuda).cpu().detach().numpy())\n",
        "\n",
        "        #accuracy = accuracy_score(self.predict(X_test_cuda).cpu().numpy(), y_test_cuda.cpu().detach().numpy())\n",
        "        #self.accuracy_history_.append(accuracy)\n",
        "        \n",
        "        if i % 10 == 0:\n",
        "          #print(accuracy)\n",
        "          self.time_history_.append(time.time() - start_time)\n",
        "        \n",
        "    return self \n",
        "\n",
        "  def predict(self, x):\n",
        "    return self.forward(x).argmax(dim=1)\n",
        "  \n",
        "  def predict_proba(self, x):\n",
        "    return self.sm(self.forward(x))"
      ],
      "execution_count": 0,
      "outputs": []
    },
    {
      "cell_type": "code",
      "metadata": {
        "id": "35iJjHLoHFi1",
        "colab_type": "code",
        "outputId": "ba8e7fa4-1396-4039-dcd3-33378531b70d",
        "colab": {
          "base_uri": "https://localhost:8080/",
          "height": 117
        }
      },
      "source": [
        "mnist_net_gpu = MNISTNet_gpu(200, n_epochs=100, save_history=True)\n",
        "mnist_net_gpu.to(device)"
      ],
      "execution_count": 0,
      "outputs": [
        {
          "output_type": "execute_result",
          "data": {
            "text/plain": [
              "MNISTNet_gpu(\n",
              "  (fc1): Linear(in_features=784, out_features=100, bias=True)\n",
              "  (act1): Sigmoid()\n",
              "  (fc2): Linear(in_features=100, out_features=10, bias=True)\n",
              "  (sm): Softmax()\n",
              ")"
            ]
          },
          "metadata": {
            "tags": []
          },
          "execution_count": 48
        }
      ]
    },
    {
      "cell_type": "code",
      "metadata": {
        "id": "puoZ83FxHQY2",
        "colab_type": "code",
        "outputId": "dc81d01e-1dda-4813-c2f3-410bd9808257",
        "colab": {
          "base_uri": "https://localhost:8080/",
          "height": 284
        }
      },
      "source": [
        "mnist_net_gpu.train(X_train.to(device), y_train.to(device))"
      ],
      "execution_count": 0,
      "outputs": [
        {
          "output_type": "stream",
          "text": [
            "0.9082\n",
            "0.9313\n",
            "0.9373\n",
            "0.9415\n",
            "0.9465\n",
            "0.951\n",
            "0.9438\n",
            "0.9534\n",
            "0.9541\n",
            "0.9535\n"
          ],
          "name": "stdout"
        },
        {
          "output_type": "execute_result",
          "data": {
            "text/plain": [
              "MNISTNet_gpu(\n",
              "  (fc1): Linear(in_features=784, out_features=100, bias=True)\n",
              "  (act1): Sigmoid()\n",
              "  (fc2): Linear(in_features=100, out_features=10, bias=True)\n",
              "  (sm): Softmax()\n",
              ")"
            ]
          },
          "metadata": {
            "tags": []
          },
          "execution_count": 49
        }
      ]
    },
    {
      "cell_type": "code",
      "metadata": {
        "id": "i12ngyZwHrs-",
        "colab_type": "code",
        "outputId": "cba2c14c-36a6-43e7-a96f-d74662daf49b",
        "colab": {
          "base_uri": "https://localhost:8080/",
          "height": 269
        }
      },
      "source": [
        "import matplotlib.pyplot as plt\n",
        "plt.plot(range(len(mnist_net_gpu.loss_history_)), mnist_net_gpu.loss_history_, \n",
        "         label='loss value(train data)')\n",
        "plt.plot(range(len(mnist_net_gpu.loss_history_test_)), mnist_net_gpu.loss_history_test_,\n",
        "         label='loss value(test data)')\n",
        "plt.legend();\n"
      ],
      "execution_count": 0,
      "outputs": [
        {
          "output_type": "display_data",
          "data": {
            "image/png": "[encoded data removed]",
            "text/plain": [
              "<Figure size 432x288 with 1 Axes>"
            ]
          },
          "metadata": {
            "tags": []
          }
        }
      ]
    },
    {
      "cell_type": "code",
      "metadata": {
        "id": "M_CqvnkaSzfe",
        "colab_type": "code",
        "outputId": "7fe175d3-924c-4464-9037-273eec91951e",
        "colab": {
          "base_uri": "https://localhost:8080/",
          "height": 117
        }
      },
      "source": [
        "#ускорение работы (cpu vs gpu)\n",
        "mnist_net_cpu = MNISTNet_cpu(90, n_epochs=91, save_history=True)\n",
        "mnist_net_gpu = MNISTNet_gpu(90, n_epochs=91, save_history=True)\n",
        "mnist_net_gpu.to(device)\n",
        "\n",
        "mnist_net_cpu.train(X_train, y_train)\n",
        "mnist_net_gpu.train(X_train.to(device), y_train.to(device))\n"
      ],
      "execution_count": 0,
      "outputs": [
        {
          "output_type": "execute_result",
          "data": {
            "text/plain": [
              "MNISTNet_gpu(\n",
              "  (fc1): Linear(in_features=784, out_features=90, bias=True)\n",
              "  (act1): Sigmoid()\n",
              "  (fc2): Linear(in_features=90, out_features=10, bias=True)\n",
              "  (sm): Softmax()\n",
              ")"
            ]
          },
          "metadata": {
            "tags": []
          },
          "execution_count": 17
        }
      ]
    },
    {
      "cell_type": "code",
      "metadata": {
        "id": "0dRTlSpTBtgM",
        "colab_type": "code",
        "outputId": "34eb1bcd-95e2-439f-ba65-07ce6e47e6d8",
        "colab": {
          "base_uri": "https://localhost:8080/",
          "height": 286
        }
      },
      "source": [
        "import matplotlib.pyplot as plt\n",
        "plt.plot(np.arange(0, 90, 10), np.array(mnist_net_cpu.time_history_), label='cpu execution time')\n",
        "plt.plot(np.arange(0, 90, 10), np.array(mnist_net_gpu.time_history_), label='gpu execution time')\n",
        "plt.legend();"
      ],
      "execution_count": 0,
      "outputs": [
        {
          "output_type": "stream",
          "text": [
            "[2.4926342964172363, 26.336905241012573]\n"
          ],
          "name": "stdout"
        },
        {
          "output_type": "display_data",
          "data": {
            "image/png": "[encoded data removed]",
            "text/plain": [
              "<Figure size 432x288 with 1 Axes>"
            ]
          },
          "metadata": {
            "tags": []
          }
        }
      ]
    },
    {
      "cell_type": "code",
      "metadata": {
        "id": "PUP9-uTw7Kys",
        "colab_type": "code",
        "colab": {}
      },
      "source": [
        "#Замедляет ли torch.backends.cudnn.deterministic = True обучение на практике? Если да, то насколько?\n",
        "torch.backends.cudnn.deterministic = True\n",
        "mnist_net = MNISTNet_gpu(90, n_epochs=50)\n",
        "mnist_net.to(device)\n",
        "start_time = time.time()\n",
        "mnist_net.train(X_train, y_train)\n",
        "det_time = start_time - time.time()\n",
        "\n",
        "torch.backends.cudnn.deterministic = False\n",
        "mnist_net = MNISTNet_gpu(90, n_epochs=50)\n",
        "mnist_net.to(device)\n",
        "start_time = time.time()\n",
        "mnist_net.train(X_train, y_train)\n",
        "nondet_time = start_time - time.time()\n",
        "\n",
        "print(det_time, nondet_time, sep='\\n')"
      ],
      "execution_count": 0,
      "outputs": []
    }
  ]
}