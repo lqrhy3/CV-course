{
  "nbformat": 4,
  "nbformat_minor": 0,
  "metadata": {
    "colab": {
      "name": "CV3_classification_net_experiments.ipynb",
      "version": "0.3.2",
      "provenance": [],
      "collapsed_sections": []
    },
    "kernelspec": {
      "name": "python2",
      "display_name": "Python 2"
    }
  },
  "cells": [
    {
      "cell_type": "code",
      "metadata": {
        "id": "IFSuf7PM6nce",
        "colab_type": "code",
        "colab": {}
      },
      "source": [
        "#я не торч просто дунул\n",
        "import torch\n",
        "import sklearn.datasets"
      ],
      "execution_count": 0,
      "outputs": []
    },
    {
      "cell_type": "code",
      "metadata": {
        "id": "E6vCimGN6vqy",
        "colab_type": "code",
        "colab": {}
      },
      "source": [
        "#воспроизводимость\n",
        "import random\n",
        "import numpy as np\n",
        "\n",
        "random.seed(0)\n",
        "np.random.seed(0)\n",
        "torch.manual_seed(0)\n",
        "torch.cuda.manual_seed(0)\n",
        "torch.backends.cudnn.deterministic = True"
      ],
      "execution_count": 0,
      "outputs": []
    },
    {
      "cell_type": "code",
      "metadata": {
        "id": "i7E_iS3s6x4w",
        "colab_type": "code",
        "colab": {}
      },
      "source": [
        "wine_dataset = sklearn.datasets.load_wine()\n"
      ],
      "execution_count": 0,
      "outputs": []
    },
    {
      "cell_type": "code",
      "metadata": {
        "id": "4pPoTdeG60OM",
        "colab_type": "code",
        "outputId": "87acfb51-0beb-4731-842b-b76cecb6c125",
        "colab": {
          "base_uri": "https://localhost:8080/",
          "height": 50
        }
      },
      "source": [
        "from sklearn.model_selection import train_test_split\n",
        "X_train, X_test, y_train, y_test = train_test_split(wine_dataset.data,\n",
        "                                                    wine_dataset.target,\n",
        "                                                    test_size=.3,\n",
        "                                                    shuffle=True)\n",
        "print(X_train.shape, y_train.shape)\n",
        "print(np.unique(y_train))\n",
        "\n",
        "X_train = torch.FloatTensor(X_train)\n",
        "X_test = torch.FloatTensor(X_test)\n",
        "y_train = torch.LongTensor(y_train)\n",
        "y_test = torch.LongTensor(y_test)"
      ],
      "execution_count": 4,
      "outputs": [
        {
          "output_type": "stream",
          "text": [
            "((124, 13), (124,))\n",
            "[0 1 2]\n"
          ],
          "name": "stdout"
        }
      ]
    },
    {
      "cell_type": "code",
      "metadata": {
        "id": "EnOV6gGO64iT",
        "colab_type": "code",
        "colab": {}
      },
      "source": [
        "import time\n",
        "class ClassificationNet(torch.nn.Module):\n",
        "  def __init__(self, n_hidden_neurons, n_epochs=3000, lr=.001, batch_size=100,\n",
        "               save_time_history=False):\n",
        "    super(ClassificationNet, self).__init__()\n",
        "    self.fc1 = torch.nn.Linear(13, n_hidden_neurons)\n",
        "    self.act1 = torch.nn.Sigmoid()\n",
        "    self.fc2 = torch.nn.Linear(n_hidden_neurons, n_hidden_neurons)\n",
        "    self.act2 = torch.nn.Sigmoid()\n",
        "    self.fc3 = torch.nn.Linear(n_hidden_neurons, 3)\n",
        "    self.sm = torch.nn.Softmax(dim=1)\n",
        "    \n",
        "    self.n_epochs = n_epochs\n",
        "    self.lr = lr\n",
        "    self.batch_size = batch_size\n",
        "    self.save_time_history = save_time_history\n",
        " \n",
        "  def forward(self, x):\n",
        "    x = self.fc1(x)\n",
        "    x = self.act1(x)\n",
        "    x = self.fc2(x)\n",
        "    x = self.act2(x)\n",
        "    x = self.fc3(x)\n",
        "    return x\n",
        "  \n",
        "  def train(self, x, y):\n",
        "    loss = torch.nn.CrossEntropyLoss() #ждет НЕ Softmax выход (убран логарифм)\n",
        "    optimizer = torch.optim.Adam(self.parameters(), self.lr)\n",
        "    \n",
        "    #batch gd\n",
        "    for _ in range(self.n_epochs):\n",
        "      self.time_history_ = []\n",
        "      start_time = time.time()\n",
        "\n",
        "      shuffled_indexes = np.random.permutation(x.shape[0])\n",
        "      \n",
        "      for start_index in range(0, len(shuffled_indexes), self.batch_size):\n",
        "        x_batch = x[shuffled_indexes[start_index:start_index+self.batch_size]].to(device)\n",
        "        y_batch = y[shuffled_indexes[start_index:start_index+self.batch_size]].to(device)\n",
        "        \n",
        "        optimizer.zero_grad()\n",
        "        y_output = self.forward(x_batch)\n",
        "        loss_val = loss(y_output, y_batch)\n",
        "        loss_val.backward()\n",
        "        optimizer.step()\n",
        "        \n",
        "        if self.save_time_history:\n",
        "          self.time_history_.append(time.time() - start_time)\n",
        "        \n",
        "    return self\n",
        "  \n",
        "  def predict(self, x):\n",
        "    return self.forward(x).argmax(dim=1)\n",
        "  \n",
        "  def predict_proba(self, x):\n",
        "    return self.sm(self.forward(x))"
      ],
      "execution_count": 0,
      "outputs": []
    },
    {
      "cell_type": "code",
      "metadata": {
        "id": "1dUyTOQh7Eyu",
        "colab_type": "code",
        "outputId": "6646e6df-2023-4796-edae-cbebd5950e39",
        "colab": {
          "base_uri": "https://localhost:8080/",
          "height": 33
        }
      },
      "source": [
        "#Какой Base Line у датасета вин?\n",
        "from scipy import stats\n",
        "def base_predict(y):\n",
        "  return [stats.mode(y.data)[0][0]]*len(y)\n",
        "\n",
        "from sklearn.metrics import accuracy_score\n",
        "base_line = accuracy_score(base_predict(y_test), y_test)\n",
        "print(base_line)"
      ],
      "execution_count": 6,
      "outputs": [
        {
          "output_type": "stream",
          "text": [
            "0.4074074074074074\n"
          ],
          "name": "stdout"
        }
      ]
    },
    {
      "cell_type": "code",
      "metadata": {
        "id": "MR18mH3xbfnf",
        "colab_type": "code",
        "colab": {}
      },
      "source": [
        "device = torch.device('cuda:0' if torch.cuda.is_available() else 'cpu')"
      ],
      "execution_count": 0,
      "outputs": []
    },
    {
      "cell_type": "code",
      "metadata": {
        "id": "Njjqc4T99BVY",
        "colab_type": "code",
        "colab": {}
      },
      "source": [
        "#Попробуйте передавать различные значения test_size в функцию train_test_split.\n",
        "#При каком значении test_size сеть предсказывает хуже чем Base Rate?\n",
        "\n",
        "accuracy_list = []\n",
        "for testsize in [.1, .2, .3, .4, 5, .6, .7, .8, .9]:\n",
        "  accuracy = 0\n",
        "  for _ in range(10):\n",
        "    \n",
        "    X_train, X_test, y_train, y_test = train_test_split(wine_dataset.data,\n",
        "                                                    wine_dataset.target,\n",
        "                                                    test_size=testsize,\n",
        "                                                    shuffle=True)\n",
        "    X_train = torch.FloatTensor(X_train)\n",
        "    X_test = torch.FloatTensor(X_test).to(device)\n",
        "    y_train = torch.LongTensor(y_train)\n",
        "    y_test = torch.LongTensor(y_test).to(device)\n",
        "\n",
        "    model = ClassificationNet(20, batch_size=10, n_epochs=100)\n",
        "    model = model.to(device)\n",
        "    model.train(X_train, y_train)\n",
        "    accuracy += accuracy_score(model.predict(X_test.data.cpu()), y_test.data.cpu())\n",
        "    #print(accuracy)\n",
        "    \n",
        "  accuracy_list.append(accuracy / 10)"
      ],
      "execution_count": 0,
      "outputs": []
    },
    {
      "cell_type": "code",
      "metadata": {
        "id": "N3WaSHJhFRSs",
        "colab_type": "code",
        "outputId": "4dc95e05-afa7-47f8-e4f0-0748ff758ccb",
        "colab": {
          "base_uri": "https://localhost:8080/",
          "height": 167
        }
      },
      "source": [
        "accuracy_list"
      ],
      "execution_count": 9,
      "outputs": [
        {
          "output_type": "execute_result",
          "data": {
            "text/plain": [
              "[0.6555555555555556,\n",
              " 0.7055555555555555,\n",
              " 0.6703703703703704,\n",
              " 0.6847222222222223,\n",
              " 0.7,\n",
              " 0.6691588785046729,\n",
              " 0.5944,\n",
              " 0.5167832167832167,\n",
              " 0.4049689440993788]"
            ]
          },
          "metadata": {
            "tags": []
          },
          "execution_count": 9
        }
      ]
    },
    {
      "cell_type": "code",
      "metadata": {
        "id": "8lZCepRMDJXR",
        "colab_type": "code",
        "outputId": "59dfd3ac-e4bb-4346-976c-02b90c8b13d4",
        "colab": {
          "base_uri": "https://localhost:8080/",
          "height": 284
        }
      },
      "source": [
        "import matplotlib.pyplot as plt\n",
        "plt.plot([.1, .2, .3, .4, .5, 0.6, .7, .8, .9], accuracy_list, label='trained model accuracy')\n",
        "plt.plot([.1, .2, .3, .4, .5, .6, .7, .8, .9], [base_line]*9, label='base line')\n",
        "plt.xlabel('test_size')\n",
        "plt.ylabel('accuracy')\n",
        "plt.legend();"
      ],
      "execution_count": 10,
      "outputs": [
        {
          "output_type": "display_data",
          "data": {
            "image/png": "[encoded data removed]",
            "text/plain": [
              "<Figure size 432x288 with 1 Axes>"
            ]
          },
          "metadata": {
            "tags": []
          }
        }
      ]
    },
    {
      "cell_type": "code",
      "metadata": {
        "id": "ITLea9bQEYzu",
        "colab_type": "code",
        "outputId": "2feec863-8a86-4ed1-81cd-0e7de68f55f2",
        "colab": {
          "base_uri": "https://localhost:8080/",
          "height": 283
        }
      },
      "source": [
        "#Поэкспериментируйте с количеством нейронов в скрытых слоях. Попробуйте поставить очень маленькое число.\n",
        "#Существует ли пороговое значение количества скрытых нейронов, при котором обучение становится невозможным?\n",
        "X_train, X_test, y_train, y_test = train_test_split(wine_dataset.data,\n",
        "                                                    wine_dataset.target,\n",
        "                                                    test_size=.3,\n",
        "                                                    shuffle=True)\n",
        "X_train = torch.FloatTensor(X_train)\n",
        "X_test = torch.FloatTensor(X_test).to(device)\n",
        "y_train = torch.LongTensor(y_train)\n",
        "y_test = torch.LongTensor(y_test).to(device)\n",
        "\n",
        "accuracy_list = []\n",
        "for n_neurons in [1, 3, 5, 7, 10, 13, 15, 17, 20]:\n",
        "  accuracy = 0\n",
        "  for _ in range(5):\n",
        "    model = ClassificationNet(n_neurons, batch_size=10, n_epochs=100)\n",
        "    model = model.to(device)\n",
        "    model.train(X_train, y_train)\n",
        "    accuracy += accuracy_score(model.predict(X_test.data.cpu()), y_test.data.cpu())\n",
        "    #print(accuracy)\n",
        "    \n",
        "  accuracy_list.append(accuracy / 5)\n",
        "  \n",
        "plt.plot([1, 3, 5, 7, 10, 13, 15, 17, 20], accuracy_list)\n",
        "plt.xlabel('n_neurons')\n",
        "plt.ylabel('accuracy');"
      ],
      "execution_count": 11,
      "outputs": [
        {
          "output_type": "display_data",
          "data": {
            "image/png": "[encoded data removed]",
            "text/plain": [
              "<Figure size 432x288 with 1 Axes>"
            ]
          },
          "metadata": {
            "tags": []
          }
        }
      ]
    },
    {
      "cell_type": "code",
      "metadata": {
        "id": "nOBZyUtZLuAo",
        "colab_type": "code",
        "outputId": "b7ac24b0-a57b-45dc-b026-544eb0261262",
        "colab": {
          "base_uri": "https://localhost:8080/",
          "height": 284
        }
      },
      "source": [
        "#Зависит ли время обучения на одной эпохе от размера батча? Исследуйте эту зависимость.\n",
        "import numpy\n",
        "time_history = []\n",
        "for batchsize in [3, 5, 10, 12, 15, 20, 30]:\n",
        "    model = ClassificationNet(20, batch_size=batchsize, n_epochs=20, save_time_history=True)\n",
        "    model = model.to(device)\n",
        "    model.train(X_train, y_train)\n",
        "    time_history.append(numpy.mean(model.time_history_))\n",
        "    \n",
        "plt.plot([3, 5, 10, 12, 15, 20, 30], time_history)\n",
        "plt.xlabel('batch_size')\n",
        "plt.ylabel('time per epoch');"
      ],
      "execution_count": 12,
      "outputs": [
        {
          "output_type": "display_data",
          "data": {
            "image/png": "[encoded data removed]",
            "text/plain": [
              "<Figure size 432x288 with 1 Axes>"
            ]
          },
          "metadata": {
            "tags": []
          }
        }
      ]
    },
    {
      "cell_type": "code",
      "metadata": {
        "id": "1nY71vEzOQ56",
        "colab_type": "code",
        "colab": {}
      },
      "source": [
        ""
      ],
      "execution_count": 0,
      "outputs": []
    }
  ]
}