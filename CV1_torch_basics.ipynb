{
  "nbformat": 4,
  "nbformat_minor": 0,
  "metadata": {
    "colab": {
      "name": "CV1_torch_basics",
      "version": "0.3.2",
      "provenance": [],
      "collapsed_sections": []
    },
    "kernelspec": {
      "name": "python3",
      "display_name": "Python 3"
    },
    "accelerator": "GPU"
  },
  "cells": [
    {
      "cell_type": "code",
      "metadata": {
        "id": "ODr5XRBSM7yZ",
        "colab_type": "code",
        "colab": {}
      },
      "source": [
        "import torch"
      ],
      "execution_count": 0,
      "outputs": []
    },
    {
      "cell_type": "code",
      "metadata": {
        "id": "fEod40vwNZ9U",
        "colab_type": "code",
        "colab": {}
      },
      "source": [
        "x = torch.ones([3, 3])"
      ],
      "execution_count": 0,
      "outputs": []
    },
    {
      "cell_type": "code",
      "metadata": {
        "id": "A1bzuqatNhWH",
        "colab_type": "code",
        "outputId": "e6290588-be71-47dc-8194-a214a8141572",
        "colab": {
          "base_uri": "https://localhost:8080/",
          "height": 67
        }
      },
      "source": [
        "x"
      ],
      "execution_count": 0,
      "outputs": [
        {
          "output_type": "execute_result",
          "data": {
            "text/plain": [
              "tensor([[1., 1., 1.],\n",
              "        [1., 1., 1.],\n",
              "        [1., 1., 1.]])"
            ]
          },
          "metadata": {
            "tags": []
          },
          "execution_count": 4
        }
      ]
    },
    {
      "cell_type": "code",
      "metadata": {
        "id": "s4OC0inuNiKf",
        "colab_type": "code",
        "outputId": "34b1f248-1d03-461d-ff88-7bbaa3aab6b7",
        "colab": {
          "base_uri": "https://localhost:8080/",
          "height": 67
        }
      },
      "source": [
        "x = torch.rand([3, 3])\n",
        "x"
      ],
      "execution_count": 0,
      "outputs": [
        {
          "output_type": "execute_result",
          "data": {
            "text/plain": [
              "tensor([[0.8690, 0.5377, 0.7260],\n",
              "        [0.8965, 0.2177, 0.5220],\n",
              "        [0.6133, 0.2409, 0.1219]])"
            ]
          },
          "metadata": {
            "tags": []
          },
          "execution_count": 5
        }
      ]
    },
    {
      "cell_type": "code",
      "metadata": {
        "id": "p-A8ssOxNxED",
        "colab_type": "code",
        "colab": {}
      },
      "source": [
        "#копирование\n",
        "y = x.clone()\n"
      ],
      "execution_count": 0,
      "outputs": []
    },
    {
      "cell_type": "code",
      "metadata": {
        "id": "YYQFWlklO-6o",
        "colab_type": "code",
        "outputId": "b286b6a1-c94d-41f7-8359-17c60c96a8a7",
        "colab": {
          "base_uri": "https://localhost:8080/",
          "height": 34
        }
      },
      "source": [
        "#логические маски\n",
        "y = y[y > 0.5]\n",
        "y"
      ],
      "execution_count": 0,
      "outputs": [
        {
          "output_type": "execute_result",
          "data": {
            "text/plain": [
              "tensor([0.8690, 0.5377, 0.7260, 0.8965, 0.5220, 0.6133])"
            ]
          },
          "metadata": {
            "tags": []
          },
          "execution_count": 7
        }
      ]
    },
    {
      "cell_type": "code",
      "metadata": {
        "id": "UDgV2-0DN59Y",
        "colab_type": "code",
        "outputId": "3051e5c4-1f83-414a-91c0-dbc2a2aa19c6",
        "colab": {
          "base_uri": "https://localhost:8080/",
          "height": 34
        }
      },
      "source": [
        "y.shape"
      ],
      "execution_count": 0,
      "outputs": [
        {
          "output_type": "execute_result",
          "data": {
            "text/plain": [
              "torch.Size([6])"
            ]
          },
          "metadata": {
            "tags": []
          },
          "execution_count": 8
        }
      ]
    },
    {
      "cell_type": "code",
      "metadata": {
        "id": "7lTF73JjQX2Z",
        "colab_type": "code",
        "outputId": "9b669373-c6ea-4bc3-fd81-943ef56fe043",
        "colab": {
          "base_uri": "https://localhost:8080/",
          "height": 50
        }
      },
      "source": [
        "#Конвертация из numpy массива в torch и обратно\n",
        "import numpy\n",
        "a = numpy.ones([3, 3])\n",
        "\n",
        "b = torch.from_numpy(a)\n",
        "print(type(a), type(b))\n",
        "\n",
        "c = b.numpy()\n",
        "print(type(b), type(c))"
      ],
      "execution_count": 0,
      "outputs": [
        {
          "output_type": "stream",
          "text": [
            "<class 'numpy.ndarray'> <class 'torch.Tensor'>\n",
            "<class 'torch.Tensor'> <class 'numpy.ndarray'>\n"
          ],
          "name": "stdout"
        }
      ]
    },
    {
      "cell_type": "code",
      "metadata": {
        "id": "rp5OMN3uOA-D",
        "colab_type": "code",
        "outputId": "5922592b-ce6b-4c21-f8f0-93f223a295b3",
        "colab": {
          "base_uri": "https://localhost:8080/",
          "height": 34
        }
      },
      "source": [
        "#доступность вычислений на GPU\n",
        "torch.cuda.is_available()"
      ],
      "execution_count": 0,
      "outputs": [
        {
          "output_type": "execute_result",
          "data": {
            "text/plain": [
              "True"
            ]
          },
          "metadata": {
            "tags": []
          },
          "execution_count": 10
        }
      ]
    },
    {
      "cell_type": "code",
      "metadata": {
        "id": "XukJD5AqPUOs",
        "colab_type": "code",
        "outputId": "5c693679-b16f-4fdf-94cb-a296baab2170",
        "colab": {
          "base_uri": "https://localhost:8080/",
          "height": 34
        }
      },
      "source": [
        "#Смена устройства для вычислений\n",
        "torch.device('cuda:0')\n",
        "#torch.device('cpu')"
      ],
      "execution_count": 0,
      "outputs": [
        {
          "output_type": "execute_result",
          "data": {
            "text/plain": [
              "device(type='cuda', index=0)"
            ]
          },
          "metadata": {
            "tags": []
          },
          "execution_count": 11
        }
      ]
    },
    {
      "cell_type": "code",
      "metadata": {
        "id": "JZRwpBaIPSSd",
        "colab_type": "code",
        "colab": {}
      },
      "source": [
        "#Закрепление вычислительного устройства за тензором\n",
        "device = torch.device('cuda:0' if torch.cuda.is_available() else 'cpu')\n",
        "x_cuda = x.to(device)"
      ],
      "execution_count": 0,
      "outputs": []
    },
    {
      "cell_type": "code",
      "metadata": {
        "id": "5SEZ6JtgTthg",
        "colab_type": "code",
        "outputId": "bc51b4e5-b14d-48b4-b858-68758f0d106d",
        "colab": {
          "base_uri": "https://localhost:8080/",
          "height": 50
        }
      },
      "source": [
        "#Демонстрация ускорения\n",
        "x_test = torch.rand([3000, 3000])\n",
        "x_test_cuda = x_test.to(device)\n",
        "x_test_not_cuda = x_test.to('cpu')\n",
        "\n",
        "%time\n",
        "y_cuda = (x_test_cuda - x_test_cuda + x_test_cuda * 10.0)**2"
      ],
      "execution_count": 0,
      "outputs": [
        {
          "output_type": "stream",
          "text": [
            "CPU times: user 2 µs, sys: 1 µs, total: 3 µs\n",
            "Wall time: 6.44 µs\n"
          ],
          "name": "stdout"
        }
      ]
    },
    {
      "cell_type": "code",
      "metadata": {
        "id": "3xIddSftUudQ",
        "colab_type": "code",
        "outputId": "79c87926-e6e8-4b03-f382-179ef1cfdd18",
        "colab": {
          "base_uri": "https://localhost:8080/",
          "height": 50
        }
      },
      "source": [
        "%time\n",
        "y_not_cuda = (x_test_not_cuda - x_test_not_cuda + x_test_not_cuda * 10.0)**2"
      ],
      "execution_count": 0,
      "outputs": [
        {
          "output_type": "stream",
          "text": [
            "CPU times: user 11 µs, sys: 4 µs, total: 15 µs\n",
            "Wall time: 19.1 µs\n"
          ],
          "name": "stdout"
        }
      ]
    },
    {
      "cell_type": "code",
      "metadata": {
        "id": "vturFxokjR_g",
        "colab_type": "code",
        "colab": {}
      },
      "source": [
        ""
      ],
      "execution_count": 0,
      "outputs": []
    }
  ]
}