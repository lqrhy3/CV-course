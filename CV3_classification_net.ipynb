{
  "nbformat": 4,
  "nbformat_minor": 0,
  "metadata": {
    "colab": {
      "name": "CV3_classification_net.ipynb",
      "version": "0.3.2",
      "provenance": [],
      "collapsed_sections": []
    },
    "kernelspec": {
      "name": "python3",
      "display_name": "Python 3"
    }
  },
  "cells": [
    {
      "cell_type": "code",
      "metadata": {
        "id": "lVeFrJ67j2J8",
        "colab_type": "code",
        "colab": {}
      },
      "source": [
        "#я не торч, просто дунул\n",
        "import torch\n",
        "import sklearn.datasets"
      ],
      "execution_count": 0,
      "outputs": []
    },
    {
      "cell_type": "code",
      "metadata": {
        "id": "uhM61dBwkYCZ",
        "colab_type": "code",
        "colab": {}
      },
      "source": [
        "#воспроизводимость\n",
        "import random\n",
        "import numpy as np\n",
        "\n",
        "random.seed(0)\n",
        "np.random.seed(0)\n",
        "torch.manual_seed(0)\n",
        "torch.cuda.manual_seed(0)\n",
        "torch.backends.cudnn.deterministic = True"
      ],
      "execution_count": 0,
      "outputs": []
    },
    {
      "cell_type": "code",
      "metadata": {
        "id": "E5s5vRDslCHv",
        "colab_type": "code",
        "colab": {}
      },
      "source": [
        "wine_dataset = sklearn.datasets.load_wine()\n"
      ],
      "execution_count": 0,
      "outputs": []
    },
    {
      "cell_type": "code",
      "metadata": {
        "id": "A47KGU7qlhgi",
        "colab_type": "code",
        "outputId": "1449a581-69fd-442c-914d-5f729f5e4028",
        "colab": {
          "base_uri": "https://localhost:8080/",
          "height": 69
        }
      },
      "source": [
        "from sklearn.model_selection import train_test_split\n",
        "#используем для начала только два признака\n",
        "X_train, X_test, y_train, y_test = train_test_split(wine_dataset.data[:, :2],\n",
        "                                                    wine_dataset.target,\n",
        "                                                    test_size=.3,\n",
        "                                                    shuffle=True)\n",
        "print(X_train.shape, y_train.shape, sep='\\n')\n",
        "print(np.unique(y_train))\n",
        "\n",
        "X_train = torch.FloatTensor(X_train)\n",
        "X_test = torch.FloatTensor(X_test)\n",
        "y_train = torch.LongTensor(y_train)\n",
        "y_test = torch.LongTensor(y_test)"
      ],
      "execution_count": 0,
      "outputs": [
        {
          "output_type": "stream",
          "text": [
            "(124, 2)\n",
            "(124,)\n",
            "[0 1 2]\n"
          ],
          "name": "stdout"
        }
      ]
    },
    {
      "cell_type": "code",
      "metadata": {
        "id": "hmWhgIsSlvpo",
        "colab_type": "code",
        "colab": {}
      },
      "source": [
        "class ClassificationNet(torch.nn.Module):\n",
        "  def __init__(self, n_hidden_neurons, n_epochs=3000, lr=.001, batch_size=100):\n",
        "    super(ClassificationNet, self).__init__()\n",
        "    self.fc1 = torch.nn.Linear(2, n_hidden_neurons)\n",
        "    self.act1 = torch.nn.Sigmoid()\n",
        "    self.fc2 = torch.nn.Linear(n_hidden_neurons, n_hidden_neurons)\n",
        "    self.act2 = torch.nn.Sigmoid()\n",
        "    self.fc3 = torch.nn.Linear(n_hidden_neurons, 3)\n",
        "    self.sm = torch.nn.Softmax(dim=1)\n",
        "    \n",
        "    self.n_epochs = n_epochs\n",
        "    self.lr = lr\n",
        "    self.batch_size = batch_size\n",
        " \n",
        "  def forward(self, x):\n",
        "    x = self.fc1(x)\n",
        "    x = self.act1(x)\n",
        "    x = self.fc2(x)\n",
        "    x = self.act2(x)\n",
        "    x = self.fc3(x)\n",
        "    return x\n",
        "  \n",
        "  def train(self, x, y):\n",
        "    loss = torch.nn.CrossEntropyLoss() #ждет НЕ Softmax выход (убран логарифм)\n",
        "    optimizer = torch.optim.Adam(self.parameters(), self.lr=.001)\n",
        "    \n",
        "    #batch gd\n",
        "    for _ in range(self.n_epochs):\n",
        "      shuffled_indexes = np.random.permutation(x.shape[0])\n",
        "      \n",
        "      for start_index in range(0, len(shuffled_indexes), self.batch_size):\n",
        "        x_batch = x[shuffled_indexes[start_index:start_index+self.batch_size]]\n",
        "        y_batch = y[shuffled_indexes[start_index:start_index+self.batch_size]]\n",
        "        \n",
        "        optimizer.zero_grad()\n",
        "        y_output = self.forward(x_batch)\n",
        "        loss_val = loss(y_output, y_batch)\n",
        "        loss_val.backward()\n",
        "        optimizer.step()\n",
        "        \n",
        "    return self\n",
        "  \n",
        "  def predict(self, x):\n",
        "    return self.forward(x).argmax(dim=1)\n",
        "  \n",
        "  def predict_proba(self, x):\n",
        "    return self.sm(self.forward(x))"
      ],
      "execution_count": 0,
      "outputs": []
    },
    {
      "cell_type": "code",
      "metadata": {
        "id": "TgJRT56jzgsu",
        "colab_type": "code",
        "outputId": "2d7235ba-95fa-4e1b-a32b-02dd8cdfbde1",
        "colab": {
          "base_uri": "https://localhost:8080/",
          "height": 155
        }
      },
      "source": [
        "wine_net = ClassificationNet(30, batch_size=10)\n",
        "wine_net.train(X_train, y_train)\n"
      ],
      "execution_count": 0,
      "outputs": [
        {
          "output_type": "execute_result",
          "data": {
            "text/plain": [
              "ClassificationNet(\n",
              "  (fc1): Linear(in_features=2, out_features=30, bias=True)\n",
              "  (act1): Sigmoid()\n",
              "  (fc2): Linear(in_features=30, out_features=30, bias=True)\n",
              "  (act2): Sigmoid()\n",
              "  (fc3): Linear(in_features=30, out_features=3, bias=True)\n",
              "  (sm): Softmax()\n",
              ")"
            ]
          },
          "metadata": {
            "tags": []
          },
          "execution_count": 45
        }
      ]
    },
    {
      "cell_type": "code",
      "metadata": {
        "id": "RH3CRif10V_Z",
        "colab_type": "code",
        "outputId": "07981d0e-54b1-4946-87d1-5233b10cfe3e",
        "colab": {
          "base_uri": "https://localhost:8080/",
          "height": 34
        }
      },
      "source": [
        "from sklearn.metrics import accuracy_score\n",
        "\n",
        "prediction = wine_net.predict(X_test)\n",
        "accuracy_score(prediction, y_test)"
      ],
      "execution_count": 0,
      "outputs": [
        {
          "output_type": "execute_result",
          "data": {
            "text/plain": [
              "0.8333333333333334"
            ]
          },
          "metadata": {
            "tags": []
          },
          "execution_count": 46
        }
      ]
    },
    {
      "cell_type": "code",
      "metadata": {
        "id": "K7ai9Wv_44uq",
        "colab_type": "code",
        "colab": {}
      },
      "source": [
        ""
      ],
      "execution_count": 0,
      "outputs": []
    }
  ]
}